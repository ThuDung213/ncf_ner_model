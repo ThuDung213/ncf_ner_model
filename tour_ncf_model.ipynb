{
  "cells": [
    {
      "cell_type": "code",
      "execution_count": 2,
      "metadata": {
        "id": "LCJ0_1oF9Ntq"
      },
      "outputs": [
        {
          "name": "stderr",
          "output_type": "stream",
          "text": [
            "\n",
            "[notice] A new release of pip available: 22.2.1 -> 24.3.1\n",
            "[notice] To update, run: python.exe -m pip install --upgrade pip\n"
          ]
        }
      ],
      "source": [
        "!pip install -q lightfm"
      ]
    },
    {
      "cell_type": "code",
      "execution_count": null,
      "metadata": {
        "colab": {
          "base_uri": "https://localhost:8080/"
        },
        "id": "PTEyaA_CgXoo",
        "outputId": "89c17856-c5f3-4646-9f15-e6506c4d8104"
      },
      "outputs": [
        {
          "name": "stdout",
          "output_type": "stream",
          "text": [
            "Name: keras\n",
            "Version: 2.15.0\n",
            "Summary: Deep learning for humans.\n",
            "Home-page: https://keras.io/\n",
            "Author: Keras team\n",
            "Author-email: keras-users@googlegroups.com\n",
            "License: Apache 2.0\n",
            "Location: /usr/local/lib/python3.10/dist-packages\n",
            "Requires: \n",
            "Required-by: tensorflow\n"
          ]
        }
      ],
      "source": [
        "!pip show keras"
      ]
    },
    {
      "cell_type": "code",
      "execution_count": 4,
      "metadata": {
        "colab": {
          "base_uri": "https://localhost:8080/"
        },
        "id": "k425zlLd8wWz",
        "outputId": "5b244881-a749-4eb6-aa55-d319a83e778d"
      },
      "outputs": [
        {
          "name": "stdout",
          "output_type": "stream",
          "text": [
            "^C\n"
          ]
        }
      ],
      "source": [
        "!pip install tensorflow-decision-forests\n",
        "\n"
      ]
    },
    {
      "cell_type": "code",
      "execution_count": 8,
      "metadata": {
        "id": "H4zMcqaj8vPT"
      },
      "outputs": [],
      "source": [
        "from scipy import sparse\n",
        "from typing import List\n",
        "import datetime\n",
        "import os\n",
        "\n",
        "import lightfm\n",
        "import numpy as np\n",
        "import pandas as pd\n",
        "import matplotlib.pyplot as plt\n",
        "import tensorflow as tf\n",
        "from lightfm import LightFM\n",
        "from lightfm.datasets import fetch_movielens\n",
        "\n",
        "import tensorflow.keras as keras\n",
        "from keras.callbacks import ReduceLROnPlateau\n",
        "from tensorflow.keras.regularizers import l2\n",
        "from tensorflow.keras.layers import (\n",
        "    Concatenate,\n",
        "    Dense,\n",
        "    Embedding,\n",
        "    Flatten,\n",
        "    Input,\n",
        "    Multiply,\n",
        "    Dropout,\n",
        "    BatchNormalization,\n",
        "    ReLU\n",
        ")\n",
        "from tensorflow.keras.models import Model\n",
        "from tensorflow.keras.optimizers import Adam\n",
        "\n",
        "\n",
        "import warnings\n",
        "warnings.filterwarnings(\"ignore\")\n",
        "\n",
        "import pandas as pd"
      ]
    },
    {
      "cell_type": "markdown",
      "metadata": {
        "id": "7fu-g0CiyLIp"
      },
      "source": [
        "# Preprocess the Data"
      ]
    },
    {
      "cell_type": "code",
      "execution_count": 12,
      "metadata": {
        "colab": {
          "base_uri": "https://localhost:8080/",
          "height": 1701
        },
        "id": "rB_T4hMCyKyQ",
        "outputId": "305801c2-e961-423c-c43c-980b888cc842"
      },
      "outputs": [
        {
          "data": {
            "text/html": [
              "<div>\n",
              "<style scoped>\n",
              "    .dataframe tbody tr th:only-of-type {\n",
              "        vertical-align: middle;\n",
              "    }\n",
              "\n",
              "    .dataframe tbody tr th {\n",
              "        vertical-align: top;\n",
              "    }\n",
              "\n",
              "    .dataframe thead th {\n",
              "        text-align: right;\n",
              "    }\n",
              "</style>\n",
              "<table border=\"1\" class=\"dataframe\">\n",
              "  <thead>\n",
              "    <tr style=\"text-align: right;\">\n",
              "      <th></th>\n",
              "      <th>user_id</th>\n",
              "      <th>tour_id</th>\n",
              "      <th>rating</th>\n",
              "      <th>timestamp</th>\n",
              "      <th>tour_name</th>\n",
              "      <th>description</th>\n",
              "      <th>duration</th>\n",
              "      <th>price</th>\n",
              "      <th>average_rating</th>\n",
              "    </tr>\n",
              "  </thead>\n",
              "  <tbody>\n",
              "    <tr>\n",
              "      <th>0</th>\n",
              "      <td>115</td>\n",
              "      <td>19</td>\n",
              "      <td>4</td>\n",
              "      <td>11/25/2024 10:00</td>\n",
              "      <td>Explore Vietnam Holiday Trip with Halong Bay C...</td>\n",
              "      <td>Hanoi(1N) →  Halong Bay(1N) →  Hue(1N) →  Hoi ...</td>\n",
              "      <td>8 Nights / 9 Days</td>\n",
              "      <td>21950000</td>\n",
              "      <td>3.3</td>\n",
              "    </tr>\n",
              "    <tr>\n",
              "      <th>1</th>\n",
              "      <td>14</td>\n",
              "      <td>99</td>\n",
              "      <td>1</td>\n",
              "      <td>11/23/2024 14:30</td>\n",
              "      <td>7 Days Honeymoon in Vietnam: Couple Special Pa...</td>\n",
              "      <td>Hanoi(2N) →  Halong(1N) →  Hanoi(1N) →  Nha Tr...</td>\n",
              "      <td>6 Nights / 7 Days</td>\n",
              "      <td>21575000</td>\n",
              "      <td>4.1</td>\n",
              "    </tr>\n",
              "    <tr>\n",
              "      <th>2</th>\n",
              "      <td>28</td>\n",
              "      <td>85</td>\n",
              "      <td>5</td>\n",
              "      <td>11/20/2024 9:45</td>\n",
              "      <td>Romantic Royal Vietnam and Cambodia Tour: Comp...</td>\n",
              "      <td>Ho Chi Minh City(3N) →  Siem Reap(2N)</td>\n",
              "      <td>5 Nights / 6 Days</td>\n",
              "      <td>18950000</td>\n",
              "      <td>2.4</td>\n",
              "    </tr>\n",
              "    <tr>\n",
              "      <th>3</th>\n",
              "      <td>54</td>\n",
              "      <td>85</td>\n",
              "      <td>2</td>\n",
              "      <td>11/21/2024 18:20</td>\n",
              "      <td>Romantic Royal Vietnam and Cambodia Tour: Comp...</td>\n",
              "      <td>Ho Chi Minh City(3N) →  Siem Reap(2N)</td>\n",
              "      <td>5 Nights / 6 Days</td>\n",
              "      <td>18950000</td>\n",
              "      <td>2.4</td>\n",
              "    </tr>\n",
              "    <tr>\n",
              "      <th>4</th>\n",
              "      <td>70</td>\n",
              "      <td>33</td>\n",
              "      <td>1</td>\n",
              "      <td>11/22/2024 16:10</td>\n",
              "      <td>Treasures of Vietnam Family Package: Ba Na Hil...</td>\n",
              "      <td>Hanoi(2N) →  Halong Bay(1N) →  Da Nang(2N) →  ...</td>\n",
              "      <td>7 Nights / 8 Days</td>\n",
              "      <td>21050000</td>\n",
              "      <td>3.4</td>\n",
              "    </tr>\n",
              "    <tr>\n",
              "      <th>...</th>\n",
              "      <td>...</td>\n",
              "      <td>...</td>\n",
              "      <td>...</td>\n",
              "      <td>...</td>\n",
              "      <td>...</td>\n",
              "      <td>...</td>\n",
              "      <td>...</td>\n",
              "      <td>...</td>\n",
              "      <td>...</td>\n",
              "    </tr>\n",
              "    <tr>\n",
              "      <th>6289</th>\n",
              "      <td>64</td>\n",
              "      <td>60</td>\n",
              "      <td>3</td>\n",
              "      <td>NaN</td>\n",
              "      <td>Vietnam Discovery: Unveil the Magic of 3 citie...</td>\n",
              "      <td>Hanoi(2N) → Da Nang(2N) → Ho Chi Minh City(2N)</td>\n",
              "      <td>6 Nights / 7 Days</td>\n",
              "      <td>11725000</td>\n",
              "      <td>4.1</td>\n",
              "    </tr>\n",
              "    <tr>\n",
              "      <th>6290</th>\n",
              "      <td>12</td>\n",
              "      <td>66</td>\n",
              "      <td>4</td>\n",
              "      <td>NaN</td>\n",
              "      <td>Mesmerising Vietnam Honeymoon Tour including H...</td>\n",
              "      <td>Ho Chi Minh City(2N) →  Hanoi(1N) →  Halong Ba...</td>\n",
              "      <td>4 Nights / 5 Days</td>\n",
              "      <td>11125000</td>\n",
              "      <td>2.1</td>\n",
              "    </tr>\n",
              "    <tr>\n",
              "      <th>6291</th>\n",
              "      <td>100</td>\n",
              "      <td>30</td>\n",
              "      <td>4</td>\n",
              "      <td>NaN</td>\n",
              "      <td>Mesmerising Vietnam and Cambodia Honeymoon Tou...</td>\n",
              "      <td>Ho Chi Mihn City(3N) → Hanoi(3N) → Halong Bay ...</td>\n",
              "      <td>10 Nights / 11 Days</td>\n",
              "      <td>38825000</td>\n",
              "      <td>2.0</td>\n",
              "    </tr>\n",
              "    <tr>\n",
              "      <th>6292</th>\n",
              "      <td>3</td>\n",
              "      <td>82</td>\n",
              "      <td>3</td>\n",
              "      <td>NaN</td>\n",
              "      <td>Mui Ne Sand Dunes Package</td>\n",
              "      <td>Ho Chi Mihn City(0N) →   Mui Ne Sand Dunes(3N)</td>\n",
              "      <td>3 Nights / 4 Days</td>\n",
              "      <td>7575000</td>\n",
              "      <td>4.4</td>\n",
              "    </tr>\n",
              "    <tr>\n",
              "      <th>6293</th>\n",
              "      <td>49</td>\n",
              "      <td>40</td>\n",
              "      <td>5</td>\n",
              "      <td>NaN</td>\n",
              "      <td>Historically Amazing Vietnam Tour</td>\n",
              "      <td>Hanoi(3N) →  Halong Bay(1N) →  Hue(2N) →  Hoi ...</td>\n",
              "      <td>10 Nights / 11 Days</td>\n",
              "      <td>25575000</td>\n",
              "      <td>3.4</td>\n",
              "    </tr>\n",
              "  </tbody>\n",
              "</table>\n",
              "<p>6294 rows × 9 columns</p>\n",
              "</div>"
            ],
            "text/plain": [
              "      user_id  tour_id  rating         timestamp  \\\n",
              "0         115       19       4  11/25/2024 10:00   \n",
              "1          14       99       1  11/23/2024 14:30   \n",
              "2          28       85       5   11/20/2024 9:45   \n",
              "3          54       85       2  11/21/2024 18:20   \n",
              "4          70       33       1  11/22/2024 16:10   \n",
              "...       ...      ...     ...               ...   \n",
              "6289       64       60       3               NaN   \n",
              "6290       12       66       4               NaN   \n",
              "6291      100       30       4               NaN   \n",
              "6292        3       82       3               NaN   \n",
              "6293       49       40       5               NaN   \n",
              "\n",
              "                                              tour_name  \\\n",
              "0     Explore Vietnam Holiday Trip with Halong Bay C...   \n",
              "1     7 Days Honeymoon in Vietnam: Couple Special Pa...   \n",
              "2     Romantic Royal Vietnam and Cambodia Tour: Comp...   \n",
              "3     Romantic Royal Vietnam and Cambodia Tour: Comp...   \n",
              "4     Treasures of Vietnam Family Package: Ba Na Hil...   \n",
              "...                                                 ...   \n",
              "6289  Vietnam Discovery: Unveil the Magic of 3 citie...   \n",
              "6290  Mesmerising Vietnam Honeymoon Tour including H...   \n",
              "6291  Mesmerising Vietnam and Cambodia Honeymoon Tou...   \n",
              "6292                          Mui Ne Sand Dunes Package   \n",
              "6293                  Historically Amazing Vietnam Tour   \n",
              "\n",
              "                                            description             duration  \\\n",
              "0     Hanoi(1N) →  Halong Bay(1N) →  Hue(1N) →  Hoi ...    8 Nights / 9 Days   \n",
              "1     Hanoi(2N) →  Halong(1N) →  Hanoi(1N) →  Nha Tr...    6 Nights / 7 Days   \n",
              "2                 Ho Chi Minh City(3N) →  Siem Reap(2N)    5 Nights / 6 Days   \n",
              "3                 Ho Chi Minh City(3N) →  Siem Reap(2N)    5 Nights / 6 Days   \n",
              "4     Hanoi(2N) →  Halong Bay(1N) →  Da Nang(2N) →  ...    7 Nights / 8 Days   \n",
              "...                                                 ...                  ...   \n",
              "6289     Hanoi(2N) → Da Nang(2N) → Ho Chi Minh City(2N)    6 Nights / 7 Days   \n",
              "6290  Ho Chi Minh City(2N) →  Hanoi(1N) →  Halong Ba...    4 Nights / 5 Days   \n",
              "6291  Ho Chi Mihn City(3N) → Hanoi(3N) → Halong Bay ...  10 Nights / 11 Days   \n",
              "6292     Ho Chi Mihn City(0N) →   Mui Ne Sand Dunes(3N)    3 Nights / 4 Days   \n",
              "6293  Hanoi(3N) →  Halong Bay(1N) →  Hue(2N) →  Hoi ...  10 Nights / 11 Days   \n",
              "\n",
              "         price  average_rating  \n",
              "0     21950000             3.3  \n",
              "1     21575000             4.1  \n",
              "2     18950000             2.4  \n",
              "3     18950000             2.4  \n",
              "4     21050000             3.4  \n",
              "...        ...             ...  \n",
              "6289  11725000             4.1  \n",
              "6290  11125000             2.1  \n",
              "6291  38825000             2.0  \n",
              "6292   7575000             4.4  \n",
              "6293  25575000             3.4  \n",
              "\n",
              "[6294 rows x 9 columns]"
            ]
          },
          "execution_count": 12,
          "metadata": {},
          "output_type": "execute_result"
        }
      ],
      "source": [
        "# datasets\n",
        "tours_df = pd.read_csv('clean_vietnam_tours.csv')\n",
        "inter_df = pd.read_csv('new_ratings.csv')\n",
        "\n",
        "merged_df = pd.merge(inter_df, tours_df, on='tour_id')\n",
        "merged_df"
      ]
    },
    {
      "cell_type": "code",
      "execution_count": 13,
      "metadata": {
        "colab": {
          "base_uri": "https://localhost:8080/"
        },
        "id": "SlueFa1AyKby",
        "outputId": "af02a976-c4e3-4f56-8081-db0881b82836"
      },
      "outputs": [
        {
          "data": {
            "text/plain": [
              "(6294, 9)"
            ]
          },
          "execution_count": 13,
          "metadata": {},
          "output_type": "execute_result"
        }
      ],
      "source": [
        "merged_df.shape"
      ]
    },
    {
      "cell_type": "code",
      "execution_count": 14,
      "metadata": {
        "colab": {
          "base_uri": "https://localhost:8080/",
          "height": 660
        },
        "id": "Vcb5GNAnyJ-a",
        "outputId": "606ce03e-0c4e-485a-e88c-28638aa638cd"
      },
      "outputs": [
        {
          "data": {
            "text/html": [
              "<div>\n",
              "<style scoped>\n",
              "    .dataframe tbody tr th:only-of-type {\n",
              "        vertical-align: middle;\n",
              "    }\n",
              "\n",
              "    .dataframe tbody tr th {\n",
              "        vertical-align: top;\n",
              "    }\n",
              "\n",
              "    .dataframe thead th {\n",
              "        text-align: right;\n",
              "    }\n",
              "</style>\n",
              "<table border=\"1\" class=\"dataframe\">\n",
              "  <thead>\n",
              "    <tr style=\"text-align: right;\">\n",
              "      <th></th>\n",
              "      <th>user_id</th>\n",
              "      <th>tour_id</th>\n",
              "      <th>rating</th>\n",
              "      <th>timestamp</th>\n",
              "    </tr>\n",
              "  </thead>\n",
              "  <tbody>\n",
              "    <tr>\n",
              "      <th>0</th>\n",
              "      <td>114</td>\n",
              "      <td>18</td>\n",
              "      <td>4</td>\n",
              "      <td>11/25/2024 10:00</td>\n",
              "    </tr>\n",
              "    <tr>\n",
              "      <th>1</th>\n",
              "      <td>13</td>\n",
              "      <td>98</td>\n",
              "      <td>1</td>\n",
              "      <td>11/23/2024 14:30</td>\n",
              "    </tr>\n",
              "    <tr>\n",
              "      <th>2</th>\n",
              "      <td>27</td>\n",
              "      <td>84</td>\n",
              "      <td>5</td>\n",
              "      <td>11/20/2024 9:45</td>\n",
              "    </tr>\n",
              "    <tr>\n",
              "      <th>3</th>\n",
              "      <td>53</td>\n",
              "      <td>84</td>\n",
              "      <td>2</td>\n",
              "      <td>11/21/2024 18:20</td>\n",
              "    </tr>\n",
              "    <tr>\n",
              "      <th>4</th>\n",
              "      <td>69</td>\n",
              "      <td>32</td>\n",
              "      <td>1</td>\n",
              "      <td>11/22/2024 16:10</td>\n",
              "    </tr>\n",
              "    <tr>\n",
              "      <th>...</th>\n",
              "      <td>...</td>\n",
              "      <td>...</td>\n",
              "      <td>...</td>\n",
              "      <td>...</td>\n",
              "    </tr>\n",
              "    <tr>\n",
              "      <th>6286</th>\n",
              "      <td>53</td>\n",
              "      <td>63</td>\n",
              "      <td>4</td>\n",
              "      <td>NaN</td>\n",
              "    </tr>\n",
              "    <tr>\n",
              "      <th>6288</th>\n",
              "      <td>68</td>\n",
              "      <td>43</td>\n",
              "      <td>4</td>\n",
              "      <td>NaN</td>\n",
              "    </tr>\n",
              "    <tr>\n",
              "      <th>6289</th>\n",
              "      <td>63</td>\n",
              "      <td>59</td>\n",
              "      <td>3</td>\n",
              "      <td>NaN</td>\n",
              "    </tr>\n",
              "    <tr>\n",
              "      <th>6291</th>\n",
              "      <td>99</td>\n",
              "      <td>29</td>\n",
              "      <td>4</td>\n",
              "      <td>NaN</td>\n",
              "    </tr>\n",
              "    <tr>\n",
              "      <th>6292</th>\n",
              "      <td>2</td>\n",
              "      <td>81</td>\n",
              "      <td>3</td>\n",
              "      <td>NaN</td>\n",
              "    </tr>\n",
              "  </tbody>\n",
              "</table>\n",
              "<p>4850 rows × 4 columns</p>\n",
              "</div>"
            ],
            "text/plain": [
              "      user_id  tour_id  rating         timestamp\n",
              "0         114       18       4  11/25/2024 10:00\n",
              "1          13       98       1  11/23/2024 14:30\n",
              "2          27       84       5   11/20/2024 9:45\n",
              "3          53       84       2  11/21/2024 18:20\n",
              "4          69       32       1  11/22/2024 16:10\n",
              "...       ...      ...     ...               ...\n",
              "6286       53       63       4               NaN\n",
              "6288       68       43       4               NaN\n",
              "6289       63       59       3               NaN\n",
              "6291       99       29       4               NaN\n",
              "6292        2       81       3               NaN\n",
              "\n",
              "[4850 rows x 4 columns]"
            ]
          },
          "execution_count": 14,
          "metadata": {},
          "output_type": "execute_result"
        }
      ],
      "source": [
        "# create embedding indices\n",
        "\n",
        "from sklearn.preprocessing import LabelEncoder\n",
        "\n",
        "user_encoder = LabelEncoder()\n",
        "tour_encoder = LabelEncoder()\n",
        "\n",
        "inter_df['user_id'] = user_encoder.fit_transform(inter_df['user_id'])\n",
        "inter_df['tour_id'] = tour_encoder.fit_transform(inter_df['tour_id'])\n",
        "\n",
        "inter_df\n",
        "\n",
        "interaction_df = inter_df.drop_duplicates(subset=['user_id', 'tour_id'], keep='first')\n",
        "interaction_df"
      ]
    },
    {
      "cell_type": "code",
      "execution_count": 15,
      "metadata": {
        "colab": {
          "base_uri": "https://localhost:8080/",
          "height": 472
        },
        "id": "A_DPBm7jM0xf",
        "outputId": "eaf5b433-8224-4de1-d3bd-7f3027311ca8"
      },
      "outputs": [
        {
          "data": {
            "text/html": [
              "<div>\n",
              "<style scoped>\n",
              "    .dataframe tbody tr th:only-of-type {\n",
              "        vertical-align: middle;\n",
              "    }\n",
              "\n",
              "    .dataframe tbody tr th {\n",
              "        vertical-align: top;\n",
              "    }\n",
              "\n",
              "    .dataframe thead th {\n",
              "        text-align: right;\n",
              "    }\n",
              "</style>\n",
              "<table border=\"1\" class=\"dataframe\">\n",
              "  <thead>\n",
              "    <tr style=\"text-align: right;\">\n",
              "      <th>tour_id</th>\n",
              "      <th>0</th>\n",
              "      <th>1</th>\n",
              "      <th>2</th>\n",
              "      <th>3</th>\n",
              "      <th>4</th>\n",
              "      <th>5</th>\n",
              "      <th>6</th>\n",
              "      <th>7</th>\n",
              "      <th>8</th>\n",
              "      <th>9</th>\n",
              "      <th>...</th>\n",
              "      <th>90</th>\n",
              "      <th>91</th>\n",
              "      <th>92</th>\n",
              "      <th>93</th>\n",
              "      <th>94</th>\n",
              "      <th>95</th>\n",
              "      <th>96</th>\n",
              "      <th>97</th>\n",
              "      <th>98</th>\n",
              "      <th>99</th>\n",
              "    </tr>\n",
              "    <tr>\n",
              "      <th>user_id</th>\n",
              "      <th></th>\n",
              "      <th></th>\n",
              "      <th></th>\n",
              "      <th></th>\n",
              "      <th></th>\n",
              "      <th></th>\n",
              "      <th></th>\n",
              "      <th></th>\n",
              "      <th></th>\n",
              "      <th></th>\n",
              "      <th></th>\n",
              "      <th></th>\n",
              "      <th></th>\n",
              "      <th></th>\n",
              "      <th></th>\n",
              "      <th></th>\n",
              "      <th></th>\n",
              "      <th></th>\n",
              "      <th></th>\n",
              "      <th></th>\n",
              "      <th></th>\n",
              "    </tr>\n",
              "  </thead>\n",
              "  <tbody>\n",
              "    <tr>\n",
              "      <th>0</th>\n",
              "      <td>5.0</td>\n",
              "      <td>0.0</td>\n",
              "      <td>0.0</td>\n",
              "      <td>0.0</td>\n",
              "      <td>0.0</td>\n",
              "      <td>0.0</td>\n",
              "      <td>3.0</td>\n",
              "      <td>2.0</td>\n",
              "      <td>4.0</td>\n",
              "      <td>0.0</td>\n",
              "      <td>...</td>\n",
              "      <td>4.0</td>\n",
              "      <td>2.0</td>\n",
              "      <td>0.0</td>\n",
              "      <td>0.0</td>\n",
              "      <td>0.0</td>\n",
              "      <td>1.0</td>\n",
              "      <td>0.0</td>\n",
              "      <td>2.0</td>\n",
              "      <td>0.0</td>\n",
              "      <td>0.0</td>\n",
              "    </tr>\n",
              "    <tr>\n",
              "      <th>1</th>\n",
              "      <td>0.0</td>\n",
              "      <td>4.0</td>\n",
              "      <td>0.0</td>\n",
              "      <td>3.0</td>\n",
              "      <td>0.0</td>\n",
              "      <td>2.0</td>\n",
              "      <td>1.0</td>\n",
              "      <td>4.0</td>\n",
              "      <td>0.0</td>\n",
              "      <td>0.0</td>\n",
              "      <td>...</td>\n",
              "      <td>0.0</td>\n",
              "      <td>2.0</td>\n",
              "      <td>4.0</td>\n",
              "      <td>0.0</td>\n",
              "      <td>0.0</td>\n",
              "      <td>4.0</td>\n",
              "      <td>0.0</td>\n",
              "      <td>0.0</td>\n",
              "      <td>0.0</td>\n",
              "      <td>0.0</td>\n",
              "    </tr>\n",
              "    <tr>\n",
              "      <th>2</th>\n",
              "      <td>0.0</td>\n",
              "      <td>0.0</td>\n",
              "      <td>0.0</td>\n",
              "      <td>0.0</td>\n",
              "      <td>0.0</td>\n",
              "      <td>0.0</td>\n",
              "      <td>0.0</td>\n",
              "      <td>4.0</td>\n",
              "      <td>0.0</td>\n",
              "      <td>0.0</td>\n",
              "      <td>...</td>\n",
              "      <td>0.0</td>\n",
              "      <td>3.0</td>\n",
              "      <td>0.0</td>\n",
              "      <td>4.0</td>\n",
              "      <td>0.0</td>\n",
              "      <td>4.0</td>\n",
              "      <td>2.0</td>\n",
              "      <td>0.0</td>\n",
              "      <td>1.0</td>\n",
              "      <td>0.0</td>\n",
              "    </tr>\n",
              "    <tr>\n",
              "      <th>3</th>\n",
              "      <td>2.0</td>\n",
              "      <td>3.0</td>\n",
              "      <td>1.0</td>\n",
              "      <td>4.0</td>\n",
              "      <td>5.0</td>\n",
              "      <td>4.0</td>\n",
              "      <td>0.0</td>\n",
              "      <td>4.0</td>\n",
              "      <td>0.0</td>\n",
              "      <td>5.0</td>\n",
              "      <td>...</td>\n",
              "      <td>5.0</td>\n",
              "      <td>2.0</td>\n",
              "      <td>2.0</td>\n",
              "      <td>0.0</td>\n",
              "      <td>0.0</td>\n",
              "      <td>3.0</td>\n",
              "      <td>0.0</td>\n",
              "      <td>1.0</td>\n",
              "      <td>0.0</td>\n",
              "      <td>0.0</td>\n",
              "    </tr>\n",
              "    <tr>\n",
              "      <th>4</th>\n",
              "      <td>5.0</td>\n",
              "      <td>3.0</td>\n",
              "      <td>2.0</td>\n",
              "      <td>4.0</td>\n",
              "      <td>2.0</td>\n",
              "      <td>0.0</td>\n",
              "      <td>0.0</td>\n",
              "      <td>0.0</td>\n",
              "      <td>5.0</td>\n",
              "      <td>0.0</td>\n",
              "      <td>...</td>\n",
              "      <td>0.0</td>\n",
              "      <td>0.0</td>\n",
              "      <td>1.0</td>\n",
              "      <td>5.0</td>\n",
              "      <td>0.0</td>\n",
              "      <td>0.0</td>\n",
              "      <td>0.0</td>\n",
              "      <td>2.0</td>\n",
              "      <td>3.0</td>\n",
              "      <td>2.0</td>\n",
              "    </tr>\n",
              "    <tr>\n",
              "      <th>...</th>\n",
              "      <td>...</td>\n",
              "      <td>...</td>\n",
              "      <td>...</td>\n",
              "      <td>...</td>\n",
              "      <td>...</td>\n",
              "      <td>...</td>\n",
              "      <td>...</td>\n",
              "      <td>...</td>\n",
              "      <td>...</td>\n",
              "      <td>...</td>\n",
              "      <td>...</td>\n",
              "      <td>...</td>\n",
              "      <td>...</td>\n",
              "      <td>...</td>\n",
              "      <td>...</td>\n",
              "      <td>...</td>\n",
              "      <td>...</td>\n",
              "      <td>...</td>\n",
              "      <td>...</td>\n",
              "      <td>...</td>\n",
              "      <td>...</td>\n",
              "    </tr>\n",
              "    <tr>\n",
              "      <th>110</th>\n",
              "      <td>0.0</td>\n",
              "      <td>0.0</td>\n",
              "      <td>0.0</td>\n",
              "      <td>0.0</td>\n",
              "      <td>3.0</td>\n",
              "      <td>5.0</td>\n",
              "      <td>2.0</td>\n",
              "      <td>0.0</td>\n",
              "      <td>0.0</td>\n",
              "      <td>0.0</td>\n",
              "      <td>...</td>\n",
              "      <td>5.0</td>\n",
              "      <td>0.0</td>\n",
              "      <td>4.0</td>\n",
              "      <td>3.0</td>\n",
              "      <td>0.0</td>\n",
              "      <td>0.0</td>\n",
              "      <td>0.0</td>\n",
              "      <td>4.0</td>\n",
              "      <td>0.0</td>\n",
              "      <td>0.0</td>\n",
              "    </tr>\n",
              "    <tr>\n",
              "      <th>111</th>\n",
              "      <td>4.0</td>\n",
              "      <td>3.0</td>\n",
              "      <td>0.0</td>\n",
              "      <td>5.0</td>\n",
              "      <td>0.0</td>\n",
              "      <td>0.0</td>\n",
              "      <td>0.0</td>\n",
              "      <td>0.0</td>\n",
              "      <td>0.0</td>\n",
              "      <td>3.0</td>\n",
              "      <td>...</td>\n",
              "      <td>0.0</td>\n",
              "      <td>0.0</td>\n",
              "      <td>1.0</td>\n",
              "      <td>0.0</td>\n",
              "      <td>3.0</td>\n",
              "      <td>0.0</td>\n",
              "      <td>5.0</td>\n",
              "      <td>0.0</td>\n",
              "      <td>0.0</td>\n",
              "      <td>0.0</td>\n",
              "    </tr>\n",
              "    <tr>\n",
              "      <th>112</th>\n",
              "      <td>1.0</td>\n",
              "      <td>0.0</td>\n",
              "      <td>5.0</td>\n",
              "      <td>0.0</td>\n",
              "      <td>0.0</td>\n",
              "      <td>2.0</td>\n",
              "      <td>0.0</td>\n",
              "      <td>5.0</td>\n",
              "      <td>3.0</td>\n",
              "      <td>5.0</td>\n",
              "      <td>...</td>\n",
              "      <td>3.0</td>\n",
              "      <td>0.0</td>\n",
              "      <td>3.0</td>\n",
              "      <td>1.0</td>\n",
              "      <td>0.0</td>\n",
              "      <td>0.0</td>\n",
              "      <td>2.0</td>\n",
              "      <td>1.0</td>\n",
              "      <td>0.0</td>\n",
              "      <td>2.0</td>\n",
              "    </tr>\n",
              "    <tr>\n",
              "      <th>113</th>\n",
              "      <td>4.0</td>\n",
              "      <td>1.0</td>\n",
              "      <td>0.0</td>\n",
              "      <td>5.0</td>\n",
              "      <td>0.0</td>\n",
              "      <td>1.0</td>\n",
              "      <td>0.0</td>\n",
              "      <td>1.0</td>\n",
              "      <td>0.0</td>\n",
              "      <td>0.0</td>\n",
              "      <td>...</td>\n",
              "      <td>2.0</td>\n",
              "      <td>4.0</td>\n",
              "      <td>4.0</td>\n",
              "      <td>0.0</td>\n",
              "      <td>3.0</td>\n",
              "      <td>1.0</td>\n",
              "      <td>0.0</td>\n",
              "      <td>0.0</td>\n",
              "      <td>0.0</td>\n",
              "      <td>0.0</td>\n",
              "    </tr>\n",
              "    <tr>\n",
              "      <th>114</th>\n",
              "      <td>3.0</td>\n",
              "      <td>2.0</td>\n",
              "      <td>0.0</td>\n",
              "      <td>0.0</td>\n",
              "      <td>0.0</td>\n",
              "      <td>0.0</td>\n",
              "      <td>0.0</td>\n",
              "      <td>0.0</td>\n",
              "      <td>0.0</td>\n",
              "      <td>0.0</td>\n",
              "      <td>...</td>\n",
              "      <td>0.0</td>\n",
              "      <td>0.0</td>\n",
              "      <td>0.0</td>\n",
              "      <td>0.0</td>\n",
              "      <td>5.0</td>\n",
              "      <td>2.0</td>\n",
              "      <td>1.0</td>\n",
              "      <td>3.0</td>\n",
              "      <td>0.0</td>\n",
              "      <td>0.0</td>\n",
              "    </tr>\n",
              "  </tbody>\n",
              "</table>\n",
              "<p>115 rows × 100 columns</p>\n",
              "</div>"
            ],
            "text/plain": [
              "tour_id   0    1    2    3    4    5    6    7    8    9   ...   90   91   92  \\\n",
              "user_id                                                    ...                  \n",
              "0        5.0  0.0  0.0  0.0  0.0  0.0  3.0  2.0  4.0  0.0  ...  4.0  2.0  0.0   \n",
              "1        0.0  4.0  0.0  3.0  0.0  2.0  1.0  4.0  0.0  0.0  ...  0.0  2.0  4.0   \n",
              "2        0.0  0.0  0.0  0.0  0.0  0.0  0.0  4.0  0.0  0.0  ...  0.0  3.0  0.0   \n",
              "3        2.0  3.0  1.0  4.0  5.0  4.0  0.0  4.0  0.0  5.0  ...  5.0  2.0  2.0   \n",
              "4        5.0  3.0  2.0  4.0  2.0  0.0  0.0  0.0  5.0  0.0  ...  0.0  0.0  1.0   \n",
              "...      ...  ...  ...  ...  ...  ...  ...  ...  ...  ...  ...  ...  ...  ...   \n",
              "110      0.0  0.0  0.0  0.0  3.0  5.0  2.0  0.0  0.0  0.0  ...  5.0  0.0  4.0   \n",
              "111      4.0  3.0  0.0  5.0  0.0  0.0  0.0  0.0  0.0  3.0  ...  0.0  0.0  1.0   \n",
              "112      1.0  0.0  5.0  0.0  0.0  2.0  0.0  5.0  3.0  5.0  ...  3.0  0.0  3.0   \n",
              "113      4.0  1.0  0.0  5.0  0.0  1.0  0.0  1.0  0.0  0.0  ...  2.0  4.0  4.0   \n",
              "114      3.0  2.0  0.0  0.0  0.0  0.0  0.0  0.0  0.0  0.0  ...  0.0  0.0  0.0   \n",
              "\n",
              "tour_id   93   94   95   96   97   98   99  \n",
              "user_id                                     \n",
              "0        0.0  0.0  1.0  0.0  2.0  0.0  0.0  \n",
              "1        0.0  0.0  4.0  0.0  0.0  0.0  0.0  \n",
              "2        4.0  0.0  4.0  2.0  0.0  1.0  0.0  \n",
              "3        0.0  0.0  3.0  0.0  1.0  0.0  0.0  \n",
              "4        5.0  0.0  0.0  0.0  2.0  3.0  2.0  \n",
              "...      ...  ...  ...  ...  ...  ...  ...  \n",
              "110      3.0  0.0  0.0  0.0  4.0  0.0  0.0  \n",
              "111      0.0  3.0  0.0  5.0  0.0  0.0  0.0  \n",
              "112      1.0  0.0  0.0  2.0  1.0  0.0  2.0  \n",
              "113      0.0  3.0  1.0  0.0  0.0  0.0  0.0  \n",
              "114      0.0  5.0  2.0  1.0  3.0  0.0  0.0  \n",
              "\n",
              "[115 rows x 100 columns]"
            ]
          },
          "execution_count": 15,
          "metadata": {},
          "output_type": "execute_result"
        }
      ],
      "source": [
        "user_item_matrix = interaction_df.pivot(index='user_id', columns='tour_id', values='rating').fillna(0)\n",
        "user_item_matrix"
      ]
    },
    {
      "cell_type": "code",
      "execution_count": 16,
      "metadata": {
        "colab": {
          "base_uri": "https://localhost:8080/",
          "height": 262
        },
        "id": "S5PQrXaqMzeY",
        "outputId": "3ae426b8-cde5-4ead-9e77-2e3e7ab864b2"
      },
      "outputs": [
        {
          "data": {
            "image/png": "[encoded data removed]",
            "text/plain": [
              "<Figure size 1600x400 with 1 Axes>"
            ]
          },
          "metadata": {},
          "output_type": "display_data"
        }
      ],
      "source": [
        "no_user_voted = interaction_df.groupby(\"tour_id\")['rating'].agg('count')\n",
        "no_movies_voted = interaction_df.groupby(\"user_id\")['rating'].agg('count')\n",
        "\n",
        "import matplotlib.pyplot as plt\n",
        "plt.style.use(\"ggplot\")\n",
        "fig,axes = plt.subplots(1,1, figsize=(16,4))\n",
        "plt.scatter(no_user_voted.index, no_user_voted, color=\"hotpink\")\n",
        "plt.axhline(y=10, color='green')\n",
        "plt.xlabel(\"MovieId\")\n",
        "plt.ylabel(\"No of users voted\")\n",
        "plt.show()\n",
        "# print(no_user_voted)\n"
      ]
    },
    {
      "cell_type": "code",
      "execution_count": 17,
      "metadata": {
        "colab": {
          "base_uri": "https://localhost:8080/"
        },
        "id": "mHIJlfggRJ3O",
        "outputId": "f2120645-6a6d-4aa4-d8f8-25e33ace1cac"
      },
      "outputs": [
        {
          "name": "stdout",
          "output_type": "stream",
          "text": [
            "Matrix density: 0.4217\n",
            "Matrix is moderately dense. Using dense representation.\n"
          ]
        }
      ],
      "source": [
        "# Check for non-numeric values\n",
        "if not np.issubdtype(user_item_matrix.values.dtype, np.number):\n",
        "    print(\"Non-numeric values detected. Converting to numeric.\")\n",
        "    user_item_matrix = user_item_matrix.apply(pd.to_numeric, errors='coerce')\n",
        "\n",
        "# Fill NaN values with 0\n",
        "user_item_matrix = user_item_matrix.fillna(0)\n",
        "\n",
        "# Calculate density\n",
        "dense_matrix = user_item_matrix.values\n",
        "density = np.count_nonzero(dense_matrix) / (dense_matrix.shape[0] * dense_matrix.shape[1])\n",
        "print(f\"Matrix density: {density:.4f}\")\n",
        "\n",
        "# Decision based on density\n",
        "if density < 0.1:\n",
        "    print(\"Matrix is highly sparse. Using sparse representation.\")\n",
        "    csr_data = csr_matrix(dense_matrix)\n",
        "else:\n",
        "    print(\"Matrix is moderately dense. Using dense representation.\")\n",
        "    csr_data = None  # No sparse matrix conversion\n"
      ]
    },
    {
      "cell_type": "code",
      "execution_count": 18,
      "metadata": {
        "colab": {
          "base_uri": "https://localhost:8080/"
        },
        "id": "c27H8L2bRNkS",
        "outputId": "98aa17de-069e-4abc-c36e-18f9dcffe6a0"
      },
      "outputs": [
        {
          "name": "stdout",
          "output_type": "stream",
          "text": [
            "None\n"
          ]
        }
      ],
      "source": [
        "print(csr_data)"
      ]
    },
    {
      "cell_type": "code",
      "execution_count": null,
      "metadata": {
        "id": "roPyV6GZyN2_"
      },
      "outputs": [],
      "source": []
    },
    {
      "cell_type": "code",
      "execution_count": 19,
      "metadata": {
        "colab": {
          "base_uri": "https://localhost:8080/"
        },
        "id": "WRcRteZ40R4g",
        "outputId": "ad2e14e4-2ca9-43d8-8359-983c79d6132b"
      },
      "outputs": [
        {
          "name": "stdout",
          "output_type": "stream",
          "text": [
            "[1.   0.5  0.   ... 0.75 1.   0.25]\n",
            "[0.5  0.25 0.   ... 0.5  0.5  0.75]\n"
          ]
        }
      ],
      "source": [
        "# Split Data into Train and Test Sets\n",
        "from sklearn.model_selection import train_test_split\n",
        "\n",
        "# Split data into train and test sets first\n",
        "X_user = interaction_df['user_id'].values\n",
        "X_tour = interaction_df['tour_id'].values\n",
        "y = interaction_df['rating'].values\n",
        "\n",
        "# Split data into train and test sets\n",
        "X_user_train, X_user_test, X_tour_train, X_tour_test, y_train, y_test = train_test_split(\n",
        "    X_user, X_tour, y, test_size=0.3, random_state=42, shuffle=True\n",
        ")\n",
        "\n",
        "# Normalize the target values (y) after splitting\n",
        "y_min = y_train.min()\n",
        "y_max = y_train.max()\n",
        "\n",
        "y_train_normalized = (y_train - y_min) / (y_max - y_min)\n",
        "y_test_normalized = (y_test - y_min) / (y_max - y_min)\n",
        "\n",
        "# Print the normalized values\n",
        "print(y_train_normalized)\n",
        "print(y_test_normalized)\n"
      ]
    },
    {
      "cell_type": "code",
      "execution_count": 20,
      "metadata": {
        "colab": {
          "base_uri": "https://localhost:8080/"
        },
        "id": "hOrr7Qpj0Toq",
        "outputId": "f03052e0-62dc-45d6-f95f-60207d513fe6"
      },
      "outputs": [
        {
          "name": "stdout",
          "output_type": "stream",
          "text": [
            "[1 1 0 ... 1 1 0]\n",
            "[1 0 0 ... 1 1 1]\n"
          ]
        }
      ],
      "source": [
        "binary_y_train = (y_train_normalized >= 0.5).astype(int)\n",
        "binary_y_test = (y_test_normalized >= 0.5).astype(int)\n",
        "print(binary_y_train)\n",
        "print(binary_y_test)"
      ]
    },
    {
      "cell_type": "code",
      "execution_count": 21,
      "metadata": {
        "id": "z7JRLToC0Tjn"
      },
      "outputs": [],
      "source": [
        "from sklearn.utils.class_weight import compute_class_weight\n",
        "class_weights = compute_class_weight('balanced', classes=np.unique(binary_y_train), y=binary_y_train)\n",
        "class_weights_dict = dict(enumerate(class_weights))\n"
      ]
    },
    {
      "cell_type": "code",
      "execution_count": 22,
      "metadata": {
        "id": "sRaHPM268wCP"
      },
      "outputs": [],
      "source": [
        "from keras.layers import LeakyReLU\n",
        "def build_ncf_model(num_users, num_tours, embedding_dim=32):\n",
        "    # Inputs\n",
        "    user_input = Input(shape=(1, ), name=\"user_input\")\n",
        "    tour_input = Input(shape=(1, ), name=\"tour_input\")\n",
        "\n",
        "    # Embedding layers\n",
        "    user_embedding = Embedding(input_dim=num_users, output_dim=embedding_dim, name=\"user_embedding\")(user_input)\n",
        "    tour_embedding = Embedding(input_dim=num_tours, output_dim=embedding_dim, name=\"tour_embedding\")(tour_input)\n",
        "\n",
        "    # Flatten embeddings\n",
        "    user_vector = Flatten()(user_embedding)\n",
        "    tour_vector = Flatten()(tour_embedding)\n",
        "\n",
        "    # GMF: Element-wise product\n",
        "    gmf_vector = Multiply()([user_vector, tour_vector])\n",
        "\n",
        "    # MLP: Concatenate embeddings\n",
        "    mlp_vector = Concatenate()([user_vector, tour_vector])\n",
        "    mlp_vector = Dense(32)(mlp_vector)\n",
        "    mlp_vector = LeakyReLU(alpha=0.01)(mlp_vector)\n",
        "    mlp_vector = BatchNormalization()(mlp_vector)\n",
        "    mlp_vector = Dropout(0.4)(mlp_vector)\n",
        "    mlp_vector = Dense(64)(mlp_vector)\n",
        "    mlp_vector = LeakyReLU(alpha=0.01)(mlp_vector)\n",
        "    # mlp_vector = ReLU()(mlp_vector)\n",
        "    mlp_vector = Dropout(0.2)(mlp_vector)\n",
        "\n",
        "    # Combine GMF and MLP\n",
        "    combined_vector = Concatenate()([gmf_vector, mlp_vector])\n",
        "\n",
        "    # Output layer\n",
        "    output = Dense(1, activation='sigmoid', name=\"output\")(combined_vector)\n",
        "\n",
        "    # Build model\n",
        "    model = Model(inputs=[user_input, tour_input], outputs=output)\n",
        "    return model\n"
      ]
    },
    {
      "cell_type": "code",
      "execution_count": 23,
      "metadata": {
        "id": "Ok4x-XHYXNbp"
      },
      "outputs": [],
      "source": [
        "# Model parameters\n",
        "num_users = len(user_encoder.classes_)\n",
        "num_tours = len(tour_encoder.classes_)\n",
        "embedding_dim = 32\n",
        "optimizer = Adam(learning_rate=1e-3)"
      ]
    },
    {
      "cell_type": "code",
      "execution_count": 24,
      "metadata": {
        "colab": {
          "base_uri": "https://localhost:8080/"
        },
        "id": "2bs8dhZoYkT-",
        "outputId": "88474967-088d-443b-8c9e-e53e124f29b7"
      },
      "outputs": [
        {
          "name": "stdout",
          "output_type": "stream",
          "text": [
            "WARNING:tensorflow:From d:\\Subject\\ner_model\\myenv\\lib\\site-packages\\keras\\src\\backend.py:1398: The name tf.executing_eagerly_outside_functions is deprecated. Please use tf.compat.v1.executing_eagerly_outside_functions instead.\n",
            "\n",
            "Model: \"model\"\n",
            "__________________________________________________________________________________________________\n",
            " Layer (type)                Output Shape                 Param #   Connected to                  \n",
            "==================================================================================================\n",
            " user_input (InputLayer)     [(None, 1)]                  0         []                            \n",
            "                                                                                                  \n",
            " tour_input (InputLayer)     [(None, 1)]                  0         []                            \n",
            "                                                                                                  \n",
            " user_embedding (Embedding)  (None, 1, 32)                3680      ['user_input[0][0]']          \n",
            "                                                                                                  \n",
            " tour_embedding (Embedding)  (None, 1, 32)                3200      ['tour_input[0][0]']          \n",
            "                                                                                                  \n",
            " flatten (Flatten)           (None, 32)                   0         ['user_embedding[0][0]']      \n",
            "                                                                                                  \n",
            " flatten_1 (Flatten)         (None, 32)                   0         ['tour_embedding[0][0]']      \n",
            "                                                                                                  \n",
            " concatenate (Concatenate)   (None, 64)                   0         ['flatten[0][0]',             \n",
            "                                                                     'flatten_1[0][0]']           \n",
            "                                                                                                  \n",
            " dense (Dense)               (None, 32)                   2080      ['concatenate[0][0]']         \n",
            "                                                                                                  \n",
            " leaky_re_lu (LeakyReLU)     (None, 32)                   0         ['dense[0][0]']               \n",
            "                                                                                                  \n",
            " batch_normalization (Batch  (None, 32)                   128       ['leaky_re_lu[0][0]']         \n",
            " Normalization)                                                                                   \n",
            "                                                                                                  \n",
            " dropout (Dropout)           (None, 32)                   0         ['batch_normalization[0][0]'] \n",
            "                                                                                                  \n",
            " dense_1 (Dense)             (None, 64)                   2112      ['dropout[0][0]']             \n",
            "                                                                                                  \n",
            " leaky_re_lu_1 (LeakyReLU)   (None, 64)                   0         ['dense_1[0][0]']             \n",
            "                                                                                                  \n",
            " multiply (Multiply)         (None, 32)                   0         ['flatten[0][0]',             \n",
            "                                                                     'flatten_1[0][0]']           \n",
            "                                                                                                  \n",
            " dropout_1 (Dropout)         (None, 64)                   0         ['leaky_re_lu_1[0][0]']       \n",
            "                                                                                                  \n",
            " concatenate_1 (Concatenate  (None, 96)                   0         ['multiply[0][0]',            \n",
            " )                                                                   'dropout_1[0][0]']           \n",
            "                                                                                                  \n",
            " output (Dense)              (None, 1)                    97        ['concatenate_1[0][0]']       \n",
            "                                                                                                  \n",
            "==================================================================================================\n",
            "Total params: 11297 (44.13 KB)\n",
            "Trainable params: 11233 (43.88 KB)\n",
            "Non-trainable params: 64 (256.00 Byte)\n",
            "__________________________________________________________________________________________________\n"
          ]
        }
      ],
      "source": [
        "# Instantiate the model\n",
        "ncf_model = build_ncf_model(num_users, num_tours, embedding_dim)\n",
        "ncf_model.compile(optimizer=optimizer, loss='binary_crossentropy', metrics=['accuracy'])\n",
        "# ncf_model.compile(optimizer=optimizer, loss='binary_crossentropy', metrics=['mae', 'mse'])\n",
        "ncf_model.summary()"
      ]
    },
    {
      "cell_type": "code",
      "execution_count": 25,
      "metadata": {
        "colab": {
          "base_uri": "https://localhost:8080/"
        },
        "id": "bIpcvm1m0O7C",
        "outputId": "a29559af-b88b-49d4-bbdf-db26768865e7"
      },
      "outputs": [
        {
          "name": "stdout",
          "output_type": "stream",
          "text": [
            "Epoch 1/40\n",
            "WARNING:tensorflow:From d:\\Subject\\ner_model\\myenv\\lib\\site-packages\\keras\\src\\utils\\tf_utils.py:492: The name tf.ragged.RaggedTensorValue is deprecated. Please use tf.compat.v1.ragged.RaggedTensorValue instead.\n",
            "\n",
            "WARNING:tensorflow:From d:\\Subject\\ner_model\\myenv\\lib\\site-packages\\keras\\src\\engine\\base_layer_utils.py:384: The name tf.executing_eagerly_outside_functions is deprecated. Please use tf.compat.v1.executing_eagerly_outside_functions instead.\n",
            "\n",
            "7/7 - 3s - loss: 0.8508 - accuracy: 0.5682 - val_loss: 0.6878 - val_accuracy: 0.5863 - lr: 0.0010 - 3s/epoch - 422ms/step\n",
            "Epoch 2/40\n",
            "7/7 - 0s - loss: 0.8133 - accuracy: 0.5965 - val_loss: 0.6852 - val_accuracy: 0.5863 - lr: 0.0010 - 174ms/epoch - 25ms/step\n",
            "Epoch 3/40\n",
            "7/7 - 0s - loss: 0.8043 - accuracy: 0.5997 - val_loss: 0.6838 - val_accuracy: 0.5863 - lr: 0.0010 - 107ms/epoch - 15ms/step\n",
            "Epoch 4/40\n",
            "7/7 - 0s - loss: 0.7887 - accuracy: 0.6000 - val_loss: 0.6832 - val_accuracy: 0.5863 - lr: 0.0010 - 101ms/epoch - 14ms/step\n",
            "Epoch 5/40\n",
            "7/7 - 0s - loss: 0.7777 - accuracy: 0.6027 - val_loss: 0.6831 - val_accuracy: 0.5863 - lr: 0.0010 - 110ms/epoch - 16ms/step\n",
            "Epoch 6/40\n",
            "7/7 - 0s - loss: 0.7681 - accuracy: 0.6021 - val_loss: 0.6833 - val_accuracy: 0.5863 - lr: 0.0010 - 108ms/epoch - 15ms/step\n",
            "Epoch 7/40\n",
            "7/7 - 0s - loss: 0.7681 - accuracy: 0.6021 - val_loss: 0.6833 - val_accuracy: 0.5863 - lr: 0.0010 - 118ms/epoch - 17ms/step\n",
            "Epoch 8/40\n",
            "7/7 - 0s - loss: 0.7657 - accuracy: 0.6018 - val_loss: 0.6830 - val_accuracy: 0.5863 - lr: 0.0010 - 107ms/epoch - 15ms/step\n",
            "Epoch 9/40\n",
            "7/7 - 0s - loss: 0.7553 - accuracy: 0.6041 - val_loss: 0.6832 - val_accuracy: 0.5863 - lr: 0.0010 - 99ms/epoch - 14ms/step\n",
            "Epoch 10/40\n",
            "7/7 - 0s - loss: 0.7533 - accuracy: 0.6088 - val_loss: 0.6834 - val_accuracy: 0.5863 - lr: 0.0010 - 109ms/epoch - 16ms/step\n",
            "Epoch 11/40\n",
            "7/7 - 0s - loss: 0.7391 - accuracy: 0.6100 - val_loss: 0.6834 - val_accuracy: 0.5863 - lr: 0.0010 - 107ms/epoch - 15ms/step\n",
            "Epoch 12/40\n",
            "7/7 - 0s - loss: 0.7321 - accuracy: 0.6194 - val_loss: 0.6834 - val_accuracy: 0.5863 - lr: 0.0010 - 132ms/epoch - 19ms/step\n",
            "Epoch 13/40\n",
            "\n",
            "Epoch 13: ReduceLROnPlateau reducing learning rate to 0.0005000000237487257.\n",
            "7/7 - 0s - loss: 0.7264 - accuracy: 0.6221 - val_loss: 0.6838 - val_accuracy: 0.5863 - lr: 0.0010 - 142ms/epoch - 20ms/step\n"
          ]
        }
      ],
      "source": [
        "# Train model\n",
        "class_weights = {0: 1.0, 1: 1.5}\n",
        "from keras.callbacks import ReduceLROnPlateau\n",
        "from keras.callbacks import EarlyStopping\n",
        "\n",
        "early_stopping = EarlyStopping(monitor='val_loss', patience=5, restore_best_weights=True)\n",
        "\n",
        "lr_scheduler = ReduceLROnPlateau(\n",
        "    monitor='val_loss', factor=0.5, patience=5, min_lr=1e-6, verbose=1\n",
        ")\n",
        "history = ncf_model.fit(\n",
        "    [X_user_train, X_tour_train], binary_y_train,\n",
        "    validation_data=([X_user_test, X_tour_test], binary_y_test),\n",
        "    batch_size=512, epochs=40, verbose=2, class_weight=class_weights, callbacks=[lr_scheduler, early_stopping]\n",
        ")"
      ]
    },
    {
      "cell_type": "code",
      "execution_count": 26,
      "metadata": {
        "colab": {
          "base_uri": "https://localhost:8080/",
          "height": 477
        },
        "id": "hCGO4R3jF4Ab",
        "outputId": "73051d15-7646-438c-8570-a823d92bdd9d"
      },
      "outputs": [
        {
          "data": {
            "image/png": "[encoded data removed]",
            "text/plain": [
              "<Figure size 640x480 with 2 Axes>"
            ]
          },
          "metadata": {},
          "output_type": "display_data"
        }
      ],
      "source": [
        "def plot_history(history):\n",
        "  fig, axs = plt.subplots(2)\n",
        "\n",
        "  axs[0].plot(history.history['accuracy'], label=\"train accuracy\")\n",
        "  axs[0].plot(history.history['val_accuracy'], label=\"test accuracy\")\n",
        "  axs[0].set_ylabel('Accuracy')\n",
        "  axs[0].legend(loc='lower right')\n",
        "  axs[0].set_title('Accuracy')\n",
        "\n",
        "  axs[1].plot(history.history['loss'], label=\"train loss\")\n",
        "  axs[1].plot(history.history['val_loss'], label=\"test loss\")\n",
        "  axs[1].set_ylabel('Error')\n",
        "  axs[1].set_xlabel('Epoch')\n",
        "  axs[1].legend(loc='upper right')\n",
        "  axs[1].set_title('Accuracy eval')\n",
        "\n",
        "  plt.show()\n",
        "\n",
        "\n",
        "plot_history(history)"
      ]
    },
    {
      "cell_type": "code",
      "execution_count": 27,
      "metadata": {
        "colab": {
          "base_uri": "https://localhost:8080/"
        },
        "id": "EhMrD8xL8wFB",
        "outputId": "a189d02d-6177-4bf8-acf6-dc3c5ad7205c"
      },
      "outputs": [
        {
          "name": "stdout",
          "output_type": "stream",
          "text": [
            "46/46 [==============================] - 0s 3ms/step - loss: 0.6830 - accuracy: 0.5863\n",
            "Test Loss: 0.6830, Test Accuracy: 0.5863\n"
          ]
        }
      ],
      "source": [
        "test_loss, test_accuracy = ncf_model.evaluate([X_user_test, X_tour_test], binary_y_test)\n",
        "print(f\"Test Loss: {test_loss:.4f}, Test Accuracy: {test_accuracy:.4f}\")\n"
      ]
    },
    {
      "cell_type": "code",
      "execution_count": 28,
      "metadata": {
        "colab": {
          "base_uri": "https://localhost:8080/"
        },
        "id": "VUt9eOsy8wKm",
        "outputId": "dd13d0e5-53d6-4d11-932d-6d250ced6a84"
      },
      "outputs": [
        {
          "name": "stdout",
          "output_type": "stream",
          "text": [
            "4/4 [==============================] - 0s 3ms/step\n",
            "Recommended tours for user 5: [16 69 63 48 31]\n"
          ]
        }
      ],
      "source": [
        "user_id = 5\n",
        "encoded_user_id = user_encoder.transform([user_id])[0]\n",
        "all_tours = np.arange(num_tours)\n",
        "\n",
        "# Predict\n",
        "user_array = np.full(len(all_tours), encoded_user_id)\n",
        "predictions = ncf_model.predict([user_array, all_tours])\n",
        "\n",
        "# Recommend 5 tours\n",
        "recommended_tours = np.argsort(-predictions.flatten())[:5]\n",
        "recommended_tour_ids = tour_encoder.inverse_transform(recommended_tours)\n",
        "\n",
        "print(f\"Recommended tours for user {user_id}: {recommended_tour_ids}\")\n"
      ]
    },
    {
      "cell_type": "code",
      "execution_count": 29,
      "metadata": {
        "colab": {
          "base_uri": "https://localhost:8080/"
        },
        "id": "IvJYPTR-8wNV",
        "outputId": "ebb00406-752c-4305-bd09-b385c0e52f1b"
      },
      "outputs": [
        {
          "name": "stdout",
          "output_type": "stream",
          "text": [
            "[1362 2033]\n"
          ]
        }
      ],
      "source": [
        "print(np.bincount(binary_y_train))"
      ]
    },
    {
      "cell_type": "code",
      "execution_count": 31,
      "metadata": {
        "id": "_kdds9P28wQS"
      },
      "outputs": [],
      "source": [
        "# Save the model\n",
        "ncf_model.save('ncf_model.keras')"
      ]
    },
    {
      "cell_type": "code",
      "execution_count": 32,
      "metadata": {
        "colab": {
          "base_uri": "https://localhost:8080/"
        },
        "id": "bB2DIDUA8wTQ",
        "outputId": "b5ad5e6d-50f7-46e4-c9a5-34aded635f11"
      },
      "outputs": [
        {
          "name": "stdout",
          "output_type": "stream",
          "text": [
            "Model saved successfully!\n"
          ]
        }
      ],
      "source": [
        "ncf_model.save(\"ncf_model.h5\")\n",
        "print(\"Model saved successfully!\")"
      ]
    },
    {
      "cell_type": "code",
      "execution_count": null,
      "metadata": {
        "colab": {
          "base_uri": "https://localhost:8080/",
          "height": 238
        },
        "id": "FiVhGo4jRoun",
        "outputId": "b109cf75-cfe0-4efa-c8c6-7bc0c5e64e56"
      },
      "outputs": [
        {
          "data": {
            "text/html": [
              "\n",
              "<p style=\"margin:0px;\">🌲 Try <a href=\"https://ydf.readthedocs.io/en/latest/\" target=\"_blank\">YDF</a>, the successor of\n",
              "    <a href=\"https://www.tensorflow.org/decision_forests\" target=\"_blank\">TensorFlow\n",
              "        Decision Forests</a> using the same algorithms but with more features and faster\n",
              "    training!\n",
              "</p>\n",
              "<div style=\"display: flex; flex-wrap: wrap; margin:5px;max-width: 880px;\">\n",
              "    <div style=\"flex: 1; border-radius: 10px; background-color: F0F0F0; padding: 5px;\">\n",
              "        <p\n",
              "            style=\"font-weight: bold; margin:0px;text-align: center;border-bottom: 1px solid #C0C0C0;margin-bottom: 4px;\">\n",
              "            Old code</p>\n",
              "        <pre style=\"overflow-wrap: anywhere; overflow: auto; margin:0px;font-size: 9pt;\">\n",
              "import tensorflow_decision_forests as tfdf\n",
              "\n",
              "tf_ds = tfdf.keras.pd_dataframe_to_tf_dataset(ds, label=\"l\")\n",
              "model = tfdf.keras.RandomForestModel(label=\"l\")\n",
              "model.fit(tf_ds)\n",
              "</pre>\n",
              "    </div>\n",
              "    <div style=\"width: 5px;\"></div>\n",
              "    <div style=\"flex: 1; border-radius: 10px; background-color: F0F0F0; padding: 5px;\">\n",
              "        <p\n",
              "            style=\"font-weight: bold; margin:0px;text-align: center;border-bottom: 1px solid #C0C0C0;margin-bottom: 4px;\">\n",
              "            New code</p>\n",
              "        <pre style=\"overflow-wrap: anywhere; overflow: auto; margin:0px;font-size: 9pt;\">\n",
              "import ydf\n",
              "\n",
              "model = ydf.RandomForestLearner(label=\"l\").train(ds)\n",
              "</pre>\n",
              "    </div>\n",
              "</div>\n",
              "<p style=\"margin:0px;font-size: 9pt;\">(Learn more in the <a\n",
              "        href=\"https://ydf.readthedocs.io/en/latest/tutorial/migrating_to_ydf/\" target=\"_blank\">migration\n",
              "        guide</a>)</p>\n"
            ],
            "text/plain": [
              "<IPython.core.display.HTML object>"
            ]
          },
          "metadata": {},
          "output_type": "display_data"
        },
        {
          "name": "stderr",
          "output_type": "stream",
          "text": [
            "WARNING:absl:You are saving your model as an HDF5 file via `model.save()` or `keras.saving.save_model(model)`. This file format is considered legacy. We recommend using instead the native Keras format, e.g. `model.save('my_model.keras')` or `keras.saving.save_model(model, 'my_model.keras')`. \n"
          ]
        },
        {
          "name": "stdout",
          "output_type": "stream",
          "text": [
            "failed to lookup keras version from the file,\n",
            "    this is likely a weight only file\n"
          ]
        }
      ],
      "source": [
        "import os\n",
        "os.environ['TF_USE_LEGACY_KERAS'] = '1'\n",
        "import tensorflowjs as tfjs\n",
        "\n",
        "tfjs.converters.save_keras_model(ncf_model, 'tfjs-model')"
      ]
    },
    {
      "cell_type": "code",
      "execution_count": null,
      "metadata": {
        "colab": {
          "base_uri": "https://localhost:8080/"
        },
        "id": "ENaHLGWFU_NB",
        "outputId": "f84c148d-204e-4f1e-c0b4-f0a823018480"
      },
      "outputs": [
        {
          "name": "stderr",
          "output_type": "stream",
          "text": [
            "WARNING:absl:You are saving your model as an HDF5 file via `model.save()` or `keras.saving.save_model(model)`. This file format is considered legacy. We recommend using instead the native Keras format, e.g. `model.save('my_model.keras')` or `keras.saving.save_model(model, 'my_model.keras')`. \n"
          ]
        }
      ],
      "source": [
        "ncf_model.save(\"ncf_model_full.h5\")\n"
      ]
    },
    {
      "cell_type": "code",
      "execution_count": null,
      "metadata": {
        "colab": {
          "base_uri": "https://localhost:8080/"
        },
        "id": "oUvwFNy08zOS",
        "outputId": "e7d0d8f2-4fe0-46d1-9980-cfa9ad6e885c"
      },
      "outputs": [
        {
          "name": "stdout",
          "output_type": "stream",
          "text": [
            "2024-12-23 02:08:46.423000: E external/local_xla/xla/stream_executor/cuda/cuda_fft.cc:477] Unable to register cuFFT factory: Attempting to register factory for plugin cuFFT when one has already been registered\n",
            "WARNING: All log messages before absl::InitializeLog() is called are written to STDERR\n",
            "E0000 00:00:1734919726.449152    1522 cuda_dnn.cc:8310] Unable to register cuDNN factory: Attempting to register factory for plugin cuDNN when one has already been registered\n",
            "E0000 00:00:1734919726.457060    1522 cuda_blas.cc:1418] Unable to register cuBLAS factory: Attempting to register factory for plugin cuBLAS when one has already been registered\n",
            "\u001b[32m🌲 Try \u001b[0m\u001b[34mhttps://ydf.readthedocs.io\u001b[0m\u001b[32m, the successor of TensorFlow Decision Forests with more features and faster training!\u001b[0m\n",
            "Traceback (most recent call last):\n",
            "  File \"/usr/local/bin/tensorflowjs_converter\", line 8, in <module>\n",
            "    sys.exit(pip_main())\n",
            "  File \"/usr/local/lib/python3.10/dist-packages/tensorflowjs/converters/converter.py\", line 959, in pip_main\n",
            "    main([' '.join(sys.argv[1:])])\n",
            "  File \"/usr/local/lib/python3.10/dist-packages/tensorflowjs/converters/converter.py\", line 963, in main\n",
            "    convert(argv[0].split(' '))\n",
            "  File \"/usr/local/lib/python3.10/dist-packages/tensorflowjs/converters/converter.py\", line 949, in convert\n",
            "    _dispatch_converter(input_format, output_format, args, quantization_dtype_map,\n",
            "  File \"/usr/local/lib/python3.10/dist-packages/tensorflowjs/converters/converter.py\", line 655, in _dispatch_converter\n",
            "    tf_saved_model_conversion_v2.convert_tf_saved_model(\n",
            "  File \"/usr/local/lib/python3.10/dist-packages/tensorflowjs/converters/tf_saved_model_conversion_v2.py\", line 982, in convert_tf_saved_model\n",
            "    _convert_tf_saved_model(output_dir, saved_model_dir=saved_model_dir,\n",
            "  File \"/usr/local/lib/python3.10/dist-packages/tensorflowjs/converters/tf_saved_model_conversion_v2.py\", line 757, in _convert_tf_saved_model\n",
            "    saved_model_sigature = _find_signature(saved_model_dir, saved_model_tags,\n",
            "  File \"/usr/local/lib/python3.10/dist-packages/tensorflowjs/converters/tf_saved_model_conversion_v2.py\", line 589, in _find_signature\n",
            "    meta_graph = get_meta_graph_def(saved_model_dir, saved_model_tags)\n",
            "  File \"/usr/local/lib/python3.10/dist-packages/tensorflow/python/tools/saved_model_utils.py\", line 113, in get_meta_graph_def\n",
            "    saved_model = read_saved_model(saved_model_dir)\n",
            "  File \"/usr/local/lib/python3.10/dist-packages/tensorflow/python/tools/saved_model_utils.py\", line 51, in read_saved_model\n",
            "    raise IOError(\"SavedModel file does not exist at: %s\" % saved_model_dir)\n",
            "OSError: SavedModel file does not exist at: ./ncf_model.h5\n"
          ]
        }
      ],
      "source": [
        "!tensorflowjs_converter --input_format=tf_saved_model --saved_model_tags=serve --weight_shard_size_bytes=30000000 ./ncf_model.h5 ./ncf_model_js"
      ]
    },
    {
      "cell_type": "code",
      "execution_count": null,
      "metadata": {
        "id": "SuZqdm1KVB-H"
      },
      "outputs": [],
      "source": [
        "ncf_model.save(\"ncf_model_full.keras\")\n"
      ]
    },
    {
      "cell_type": "code",
      "execution_count": null,
      "metadata": {
        "colab": {
          "base_uri": "https://localhost:8080/"
        },
        "id": "hbZvBIyUcZGv",
        "outputId": "888448bc-ff79-431f-9f73-2a528a7fb3a3"
      },
      "outputs": [
        {
          "name": "stdout",
          "output_type": "stream",
          "text": [
            "2.18.0\n",
            "3.7.0\n"
          ]
        }
      ],
      "source": [
        "import tensorflow as tf\n",
        "print(tf.__version__)  # TensorFlow version\n",
        "print(tf.keras.__version__)  # tf.keras version\n"
      ]
    },
    {
      "cell_type": "code",
      "execution_count": null,
      "metadata": {
        "id": "p1LEYGr6cZza"
      },
      "outputs": [],
      "source": []
    }
  ],
  "metadata": {
    "colab": {
      "provenance": []
    },
    "kernelspec": {
      "display_name": "myenv",
      "language": "python",
      "name": "python3"
    },
    "language_info": {
      "codemirror_mode": {
        "name": "ipython",
        "version": 3
      },
      "file_extension": ".py",
      "mimetype": "text/x-python",
      "name": "python",
      "nbconvert_exporter": "python",
      "pygments_lexer": "ipython3",
      "version": "3.10.6"
    }
  },
  "nbformat": 4,
  "nbformat_minor": 0
}
